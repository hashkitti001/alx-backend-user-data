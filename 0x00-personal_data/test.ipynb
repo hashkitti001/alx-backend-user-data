{
 "cells": [
  {
   "cell_type": "code",
   "execution_count": 4,
   "metadata": {},
   "outputs": [
    {
     "name": "stdout",
     "output_type": "stream",
     "text": [
      "<re.Match object; span=(0, 5), match='name:'>\n"
     ]
    }
   ],
   "source": [
    "import re\n",
    "\n",
    "string = \"name:Muna\"\n",
    "\n",
    "\n",
    "pii_fields = ('password', 'date_of_birth')\n",
    "\n",
    "field_regex = r'({})'\n",
    "\n",
    "print(re.match(field_regex, string))"
   ]
  }
 ],
 "metadata": {
  "kernelspec": {
   "display_name": "Python 3",
   "language": "python",
   "name": "python3"
  },
  "language_info": {
   "codemirror_mode": {
    "name": "ipython",
    "version": 3
   },
   "file_extension": ".py",
   "mimetype": "text/x-python",
   "name": "python",
   "nbconvert_exporter": "python",
   "pygments_lexer": "ipython3",
   "version": "3.10.12"
  }
 },
 "nbformat": 4,
 "nbformat_minor": 2
}
